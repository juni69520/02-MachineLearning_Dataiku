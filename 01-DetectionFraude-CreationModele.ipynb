{
 "cells": [
  {
   "cell_type": "markdown",
   "id": "52a86a94",
   "metadata": {},
   "source": [
    "![ai](https://scontent.fcdg1-1.fna.fbcdn.net/v/t1.6435-9/118600154_3984699468223263_4182911898048442019_n.png?_nc_cat=107&ccb=1-7&_nc_sid=973b4a&_nc_ohc=-BX9mep6k94AX-t31ve&_nc_ht=scontent.fcdg1-1.fna&oh=00_AfB7d7nJ93I88-nxdoGcWyrbVSA5tmNJpiEwcL1T9cSj6g&oe=64B27796)\n",
    "\n",
    "# Détection de fraude : créez votre modèle 🥝"
   ]
  },
  {
   "cell_type": "markdown",
   "id": "d16aed7a",
   "metadata": {},
   "source": [
    "## Contexte\n",
    "\n",
    "Nous continuerons à travailler sur le projet commencé lors de la session précédente. Pour rappel, Elo est une société brésilienne de cartes de paiement. Selon le rapport 2020 de la Banque centrale européenne sur la fraude à la carte, la valeur totale des transactions frauduleuses utilisant des cartes émises dans le SEPA et acquises dans le monde s'élevait à 1,80 milliard d'euros en 2018.\n",
    "\n",
    "Nous allons prédire les transactions frauduleuses grâce au machine learning.\n",
    "\n",
    "![](https://data-analytics-fullstack-assets.s3.eu-west-3.amazonaws.com/M10-Predictive_Analysis/D02-Create_machine_learning_models/Exercices/d02_TD01_image_01.png)"
   ]
  },
  {
   "cell_type": "markdown",
   "id": "99d2637f",
   "metadata": {},
   "source": [
    "\n",
    "## PARTIE I Créez votre modèle d'apprentissage automatique\n",
    "\n",
    "Si vous n'avez pas réussi à terminer l'exercice du module précédent, vous pouvez commencer par la correction d'hier. \n",
    "\n",
    "Afin de détecter la fraude, nous devrons diviser l'ensemble de données en enregistrements où le statut de la fraude à la transaction est connu (2017) et inconnu (2018). \n",
    "\n",
    "Pour ce faire, nous allons utiliser la recette de fractionnement. \n",
    "\n",
    "Vous pouvez fractionner vos données :\n",
    "- Au hasard\n",
    "- Basé sur certaines conditions"
   ]
  },
  {
   "cell_type": "markdown",
   "id": "dbdbfd0f",
   "metadata": {},
   "source": [
    "### Etapes\n",
    "Suivez les étapes : \n",
    "\n",
    "- Créez deux nouveaux jeux de données, transactions_to_train et transactions_to_predict \n",
    "- Définissez un filtre :\n",
    "    - où \"authorized_flag\" est défini → transactions_known\n",
    "    - toutes les autres lignes → transactions_unknown\n",
    "Nous ne pouvons former notre modèle que sur les enregistrements où nous connaissons la valeur de \"authorized_flag\" Votre flux devrait ressembler à cela :"
   ]
  },
  {
   "cell_type": "markdown",
   "id": "a397a820",
   "metadata": {},
   "source": [
    "Nous ne pouvons former notre modèle que sur les enregistrements où nous connaissons la valeur de \"authorized_flag\" \n",
    "\n",
    "Votre flux devrait ressembler à cela :\n",
    "![](https://data-analytics-fullstack-assets.s3.eu-west-3.amazonaws.com/M10-Predictive_Analysis/D02-Create_machine_learning_models/Exercices/d02_TD01_image_02.png)"
   ]
  },
  {
   "cell_type": "markdown",
   "id": "fdfff7d3",
   "metadata": {},
   "source": [
    "## Entrainement des modèles Shallow Learning"
   ]
  },
  {
   "cell_type": "markdown",
   "id": "de6de079",
   "metadata": {},
   "source": [
    "### Entrainement modèles de base"
   ]
  },
  {
   "cell_type": "markdown",
   "id": "e606b1f6",
   "metadata": {},
   "source": [
    "Créez votre algorithme d'apprentissage automatique\n",
    "\n",
    "- Accédez au laboratoire pour le jeu de données transactions_known\n",
    "- Créer un nouveau modèle visuel\n",
    "- Entraînez vos modèles (LogisticRegression et RandomForest)"
   ]
  },
  {
   "cell_type": "markdown",
   "id": "3372b3ba",
   "metadata": {},
   "source": [
    "Détaillez et expliquez toutes les étapes par lesquelles passe le processus d'entrainement des modèles"
   ]
  },
  {
   "cell_type": "markdown",
   "id": "5d45b53e",
   "metadata": {},
   "source": [
    "### Comparaison de plusieurs modèles"
   ]
  },
  {
   "cell_type": "markdown",
   "id": "dfd8e602",
   "metadata": {},
   "source": [
    "Rajoutez d'autres modèles dans l'entrainement:\n",
    "- XGBoost\n",
    "- LightGBM\n",
    "\n",
    "Limitez le nombre de données d'entrainement à 20% du nombre total d'individus choisis aléatoirement\n",
    "\n",
    "Lancez l'entrainement !"
   ]
  },
  {
   "cell_type": "markdown",
   "id": "dabe32d5",
   "metadata": {},
   "source": [
    "Notez-vous des améliorations par rapport aux deux premiers modèles ?"
   ]
  },
  {
   "cell_type": "markdown",
   "id": "6890c0b7",
   "metadata": {},
   "source": [
    "### Entrainement des modèles Deep Learning"
   ]
  },
  {
   "cell_type": "markdown",
   "id": "dfba2d52",
   "metadata": {},
   "source": [
    "<div class=\"alert alert-warning\">\n",
    "  <strong>ASTUCE!</strong> Certains entrainements peuvent prendre jusqu'à 20 minutes. Lancez-les avant d'aller en pause.\n",
    "</div>"
   ]
  },
  {
   "cell_type": "markdown",
   "id": "efaae7be",
   "metadata": {},
   "source": [
    "Concevez l'architecture neuronale suivante:\n",
    "- Une couche d'entrée avec 48 neurones, activation relu\n",
    "- Une couche cachée avec 32 neurones, activation relu\n",
    "- Une couche cachée avec 16 neurones, activation relu\n",
    "\n",
    "Optimiseur : **adam**\n",
    "\n",
    "Nombre d'epoch : **5**"
   ]
  },
  {
   "cell_type": "markdown",
   "id": "a17b3772",
   "metadata": {},
   "source": [
    "Limitez le nombre de données d'entrainement à 5% du nombre total d'individus choisis aléatoirement\n",
    "\n",
    "Lancez l'entrainement !"
   ]
  },
  {
   "cell_type": "code",
   "execution_count": null,
   "id": "a459a8b5",
   "metadata": {},
   "outputs": [],
   "source": []
  }
 ],
 "metadata": {
  "kernelspec": {
   "display_name": "Python 3 (ipykernel)",
   "language": "python",
   "name": "python3"
  },
  "language_info": {
   "codemirror_mode": {
    "name": "ipython",
    "version": 3
   },
   "file_extension": ".py",
   "mimetype": "text/x-python",
   "name": "python",
   "nbconvert_exporter": "python",
   "pygments_lexer": "ipython3",
   "version": "3.9.16+"
  }
 },
 "nbformat": 4,
 "nbformat_minor": 5
}
