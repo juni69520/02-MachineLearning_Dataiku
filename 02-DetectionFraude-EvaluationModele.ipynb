{
 "cells": [
  {
   "cell_type": "markdown",
   "id": "e84047ff",
   "metadata": {},
   "source": [
    "![ai](https://scontent.fcdg1-1.fna.fbcdn.net/v/t1.6435-9/118600154_3984699468223263_4182911898048442019_n.png?_nc_cat=107&ccb=1-7&_nc_sid=973b4a&_nc_ohc=-BX9mep6k94AX-t31ve&_nc_ht=scontent.fcdg1-1.fna&oh=00_AfB7d7nJ93I88-nxdoGcWyrbVSA5tmNJpiEwcL1T9cSj6g&oe=64B27796)\n",
    "\n",
    "# Détection de fraude : Évaluez votre modèle 💯"
   ]
  },
  {
   "cell_type": "markdown",
   "id": "e5432e4a",
   "metadata": {},
   "source": [
    "## Contexte\n",
    "\n",
    "Nous continuerons à travailler sur le projet commencé lors de la session précédente. Pour rappel, Elo est une société brésilienne de cartes de paiement. Selon le rapport 2020 de la Banque centrale européenne sur la fraude à la carte, la valeur totale des transactions frauduleuses utilisant des cartes émises dans le SEPA et acquises dans le monde s'élevait à 1,80 milliard d'euros en 2018.\n",
    "\n",
    "Nous allons prédire les transactions frauduleuses grâce au machine learning.\n",
    "\n",
    "![](https://data-analytics-fullstack-assets.s3.eu-west-3.amazonaws.com/M10-Predictive_Analysis/D02-Create_machine_learning_models/Exercices/d02_TD01_image_01.png)"
   ]
  },
  {
   "cell_type": "markdown",
   "id": "f554f2b1",
   "metadata": {},
   "source": [
    "\n",
    "## Partie II Évaluez votre modèle\n",
    "\n",
    "Des mesures telles que **la précision, l'AUC ROC, le score F1 et l'erreur quadratique moyenne** sont importantes. \n",
    "\n",
    "- Examinez l'importance des variables (comment chaque colonne est-elle prise en compte par le modèle) : ont-elles un sens ?\n",
    "- Regardez la matrice de confusion :\n",
    "    - Vous souciez-vous plus d'attraper les points positifs ou négatifs ?\n",
    "    - Vous souciez-vous de l'exactitude brute ?\n",
    "- Que se passe-t-il lorsque vous modifiez le seuil du modèle ?"
   ]
  },
  {
   "cell_type": "markdown",
   "id": "744f02a6",
   "metadata": {},
   "source": [
    "Dans le cas d'une fraude, nous voulons être précis et nous ne voulons manquer aucun cas. \n",
    "\n",
    "Pour rappel : \n",
    "- Précision : Proportion de prédictions correctes (« positives ») parmi les prédictions « positives ». \n",
    "- Rappel : Proportion de prédictions \"positives\" (correctes) parmi les enregistrements \"positifs\". \n",
    "- Score F1 : Moyenne harmonique entre précision et rappel. \n",
    "- Exactitude : Proportion de prédictions correctes parmi tous les enregistrements (\"positifs\" et \"négatifs\"). Il est moins informatif que le score F1 pour les jeux de données non équilibrés."
   ]
  }
 ],
 "metadata": {
  "kernelspec": {
   "display_name": "Python 3 (ipykernel)",
   "language": "python",
   "name": "python3"
  },
  "language_info": {
   "codemirror_mode": {
    "name": "ipython",
    "version": 3
   },
   "file_extension": ".py",
   "mimetype": "text/x-python",
   "name": "python",
   "nbconvert_exporter": "python",
   "pygments_lexer": "ipython3",
   "version": "3.9.16+"
  }
 },
 "nbformat": 4,
 "nbformat_minor": 5
}
