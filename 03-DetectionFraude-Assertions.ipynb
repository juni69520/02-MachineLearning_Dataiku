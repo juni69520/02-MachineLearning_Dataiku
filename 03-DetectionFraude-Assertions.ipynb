{
 "cells": [
  {
   "cell_type": "markdown",
   "id": "e84047ff",
   "metadata": {},
   "source": [
    "![ai](https://scontent.fcdg1-1.fna.fbcdn.net/v/t1.6435-9/118600154_3984699468223263_4182911898048442019_n.png?_nc_cat=107&ccb=1-7&_nc_sid=973b4a&_nc_ohc=-BX9mep6k94AX-t31ve&_nc_ht=scontent.fcdg1-1.fna&oh=00_AfB7d7nJ93I88-nxdoGcWyrbVSA5tmNJpiEwcL1T9cSj6g&oe=64B27796)\n",
    "\n",
    "# Détection de fraude : créez votre première assertion 🗺️"
   ]
  },
  {
   "cell_type": "markdown",
   "id": "e5432e4a",
   "metadata": {},
   "source": [
    "## Contexte\n",
    "\n",
    "Nous continuerons à travailler sur le projet commencé lors de la session précédente. Pour rappel, Elo est une société brésilienne de cartes de paiement. Selon le rapport 2020 de la Banque centrale européenne sur la fraude à la carte, la valeur totale des transactions frauduleuses utilisant des cartes émises dans le SEPA et acquises dans le monde s'élevait à 1,80 milliard d'euros en 2018.\n",
    "\n",
    "Nous allons prédire les transactions frauduleuses grâce au machine learning.\n",
    "\n",
    "![](https://data-analytics-fullstack-assets.s3.eu-west-3.amazonaws.com/M10-Predictive_Analysis/D02-Create_machine_learning_models/Exercices/d02_TD01_image_01.png)"
   ]
  },
  {
   "cell_type": "markdown",
   "id": "f554f2b1",
   "metadata": {},
   "source": [
    "\n",
    "## Partie III Créez votre première assertion\n",
    "\n",
    "Utilisons le tableau suivant qui est légèrement différent de celui que nous avons créé dans le module précédent. Il nous donne la moyenne des transactions autorisées dans la ville de New York.\n",
    "\n",
    "![](https://data-analytics-fullstack-assets.s3.eu-west-3.amazonaws.com/M10-Predictive_Analysis/D02-Create_machine_learning_models/Exercices/d02_TD03_image_01.png)\n",
    "\n",
    "On voit que si on filtre sur la ville de New-York on a en moyenne 0,91% de transactions autorisées.\n",
    "\n",
    "- Créez une nouvelle assertion en utilisant le merchant_state égal à New York avec vos observations.\n",
    "- Vous pouvez ensuite ré-entrainer votre modèle d'apprentissage automatique.\n",
    "- Vérifiez si vos assertions ont réussi"
   ]
  }
 ],
 "metadata": {
  "kernelspec": {
   "display_name": "Python 3 (ipykernel)",
   "language": "python",
   "name": "python3"
  },
  "language_info": {
   "codemirror_mode": {
    "name": "ipython",
    "version": 3
   },
   "file_extension": ".py",
   "mimetype": "text/x-python",
   "name": "python",
   "nbconvert_exporter": "python",
   "pygments_lexer": "ipython3",
   "version": "3.9.16+"
  }
 },
 "nbformat": 4,
 "nbformat_minor": 5
}
